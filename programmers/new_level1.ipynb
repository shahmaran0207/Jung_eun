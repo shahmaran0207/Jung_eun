{
 "cells": [
  {
   "cell_type": "markdown",
   "id": "dbcd7aa5-b794-413b-9cd4-89d2e35ef328",
   "metadata": {},
   "source": [
    "명함 지갑을 만드는 회사에서 지갑의 크기를 정하려고 합니다. 다양한 모양과 크기의 명함들을 모두 수납할 수 있으면서, 작아서 들고 다니기 편한 지갑을 만들어야 합니다. 이러한 요건을 만족하는 지갑을 만들기 위해 디자인팀은 모든 명함의 가로 길이와 세로 길이를 조사했습니다.\r\n",
    "\r\n",
    "아래 표는 4가지 명함의 가로 길이와 세로 길이를 나타냅니다.\r\n",
    "\r\n",
    "명함 번호\t가로 길이\t세로 길이\r\n",
    "1\t60\t50\r\n",
    "2\t30\t70\r\n",
    "3\t60\t30\r\n",
    "4\t80\t40\r\n",
    "가장 긴 가로 길이와 세로 길이가 각각 80, 70이기 때문에 80(가로) x 70(세로) 크기의 지갑을 만들면 모든 명함들을 수납할 수 있습니다. 하지만 2번 명함을 가로로 눕혀 수납한다면 80(가로) x 50(세로) 크기의 지갑으로 모든 명함들을 수납할 수 있습니다. 이때의 지갑 크기는 4000(=80 x 50)입니다.\r\n",
    "\r\n",
    "모든 명함의 가로 길이와 세로 길이를 나타내는 2차원 배열 sizes가 매개변수로 주어집니다. 모든 명함을 수납할 수 있는 가장 작은 지갑을 만들 때, 지갑의 크기를 return 하도록 solution 함수를 완성해주세요."
   ]
  },
  {
   "cell_type": "code",
   "execution_count": 18,
   "id": "97c5c7d6-e464-4c12-bdff-23784fa60f7c",
   "metadata": {},
   "outputs": [],
   "source": [
    "def solution(sizes):\n",
    "    answer = tmp1 = tmp2 = 0\n",
    "    tmp1=sizes[0][0]\n",
    "    tmp2=sizes[0][1]\n",
    "\n",
    "    for i in range(len(sizes)):\n",
    "\n",
    "\n",
    "        if tmp1< sizes[i][0]: tmp1=sizes[i][0]\n",
    "        if tmp2< sizes[i][1]: tmp2=sizes[i][1]\n",
    "\n",
    "    answer=tmp1*tmp2\n",
    "    return answer"
   ]
  },
  {
   "cell_type": "code",
   "execution_count": 20,
   "id": "c906120d-14b8-4519-a969-68023f9ba0d5",
   "metadata": {},
   "outputs": [],
   "source": [
    "def solution(sizes):\n",
    "    return max(max(x) for x in sizes) * max(min(x) for x in sizes)"
   ]
  },
  {
   "cell_type": "code",
   "execution_count": 21,
   "id": "ad09a7b7-eae8-4899-8e93-ad8ad461410c",
   "metadata": {},
   "outputs": [],
   "source": [
    "solution = lambda sizes: max(sum(sizes, [])) * max(min(size) for size in sizes)"
   ]
  },
  {
   "cell_type": "code",
   "execution_count": null,
   "id": "c4f084c4-4128-480a-afb1-8373eb2e74dd",
   "metadata": {},
   "outputs": [],
   "source": []
  }
 ],
 "metadata": {
  "kernelspec": {
   "display_name": "Python 3 (ipykernel)",
   "language": "python",
   "name": "python3"
  },
  "language_info": {
   "codemirror_mode": {
    "name": "ipython",
    "version": 3
   },
   "file_extension": ".py",
   "mimetype": "text/x-python",
   "name": "python",
   "nbconvert_exporter": "python",
   "pygments_lexer": "ipython3",
   "version": "3.11.7"
  }
 },
 "nbformat": 4,
 "nbformat_minor": 5
}
