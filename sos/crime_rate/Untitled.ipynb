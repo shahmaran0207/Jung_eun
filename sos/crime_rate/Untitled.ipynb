{
 "cells": [
  {
   "cell_type": "code",
   "execution_count": null,
   "id": "0a9cb134",
   "metadata": {},
   "outputs": [],
   "source": [
    "\n",
    "gungbuk_police =police_df[police_df['시도구분'] == '경상북도']\n",
    "gwangju_police =police_df[police_df['시도구분'] == '광주광역시']\n",
    "daegu_police =police_df[police_df['시도구분'] == '대구광역시']\n",
    "daejeon_police =police_df[police_df['시도구분'] == '대전광역시']\n",
    "busan_police =police_df[police_df['시도구분'] == '부산광역시']\n",
    "ulsan_police =police_df[police_df['시도구분'] == '울산광역시']\n",
    "seoul_police =police_df[police_df['시도구분'] == '서울특별시']\n",
    "incheon_police =police_df[police_df['시도구분'] == '인천광역시']\n",
    "jeonnam_police =police_df[police_df['시도구분'] == '전라남도']\n",
    "jeonbuk_police =police_df[police_df['시도구분'] == '전라북도']\n",
    "jeju_police =police_df[police_df['시도구분'] == '제주특별자치도']\n",
    "chungnam_police =police_df[police_df['시도구분'] == '충청남도']\n",
    "chungbuk_police =police_df[police_df['시도구분'] == '충청북도']"
   ]
  }
 ],
 "metadata": {
  "kernelspec": {
   "display_name": "Python 3 (ipykernel)",
   "language": "python",
   "name": "python3"
  },
  "language_info": {
   "codemirror_mode": {
    "name": "ipython",
    "version": 3
   },
   "file_extension": ".py",
   "mimetype": "text/x-python",
   "name": "python",
   "nbconvert_exporter": "python",
   "pygments_lexer": "ipython3",
   "version": "3.9.12"
  }
 },
 "nbformat": 4,
 "nbformat_minor": 5
}
