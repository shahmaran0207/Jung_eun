{
 "cells": [
  {
   "cell_type": "markdown",
   "id": "1368aeec-0d3b-42b1-b1ca-6284c6210b45",
   "metadata": {},
   "source": [
    "## 네오와 프로도가 숫자놀이를 하고 있습니다. 네오가 프로도에게 숫자를 건넬 때 일부 자릿수를 영단어로 바꾼 카드를 건네주면 프로도는 원래 숫자를 찾는 게임입니다.\r\n",
    "\r\n",
    "다음은 숫자의 일부 자릿수를 영단어로 바꾸는 예시입니다.\r\n",
    "\r\n",
    "1478 → \"one4seveneight\"\r\n",
    "234567 → \"23four5six7\"\r\n",
    "10203 → \"1zerotwozero3\"\r\n",
    "이렇게 숫자의 일부 자릿수가 영단어로 바뀌어졌거나, 혹은 바뀌지 않고 그대로인 문자열 s가 매개변수로 주어집니다. s가 의미하는 원래 숫자를 return 하도록 solution 함수를 완성해주세요."
   ]
  },
  {
   "cell_type": "code",
   "execution_count": 17,
   "id": "b1e10ef0-85fe-4778-9c6f-a9a19bd923bb",
   "metadata": {},
   "outputs": [],
   "source": [
    "def solution(s):\n",
    "    answer = ''\n",
    "    num='0123456789'\n",
    "\n",
    "    for i in range(len(s)):\n",
    "        if s[i] in num:\n",
    "            s.replace(s[i],'')\n",
    "            answer+=s[i]\n",
    "        if s[i:i+2] == 'one':\n",
    "            s.replace(s[i:i+2],'')\n",
    "            answer+='1'\n",
    "        if s[i:i+2] == 'two':\n",
    "            s.replace(s[i:i+2],'')\n",
    "            answer+='2'\n",
    "        if s[i:i+2] == 'six':\n",
    "            s.replace(s[i:i+2],'')\n",
    "            answer+='6'\n",
    "        if s[i:i+3] == 'zero':\n",
    "            s.replace(s[i:i+3],'')\n",
    "            answer+='0'\n",
    "        if s[i:i+3] == 'four':\n",
    "            s.replace(s[i:i+3],'')\n",
    "            answer+='4'\n",
    "        if s[i:i+3] == 'five':\n",
    "            s.replace(s[i:i+3],'')\n",
    "            answer+='5'\n",
    "        if s[i:i+3] == 'nine':\n",
    "            s.replace(s[i:i+3],'')\n",
    "            answer+='9'\n",
    "        if s[i:i+4] == 'three':\n",
    "            s.replace(s[i:i+4],'')\n",
    "            answer+='3'\n",
    "        if s[i:i+4] == 'seven':\n",
    "            s.replace(s[i:i+4],'')\n",
    "            answer+='7'        \n",
    "        if s[i:i+4] == 'eight':\n",
    "            s.replace(s[i:i+4],'')\n",
    "            answer+='8'                \n",
    "            \n",
    "    return answer"
   ]
  },
  {
   "cell_type": "code",
   "execution_count": 18,
   "id": "93039061-9590-4487-8aef-4091a9e51d2a",
   "metadata": {},
   "outputs": [
    {
     "data": {
      "text/plain": [
       "'4'"
      ]
     },
     "execution_count": 18,
     "metadata": {},
     "output_type": "execute_result"
    }
   ],
   "source": [
    "solution(\"one4seveneight\")"
   ]
  },
  {
   "cell_type": "markdown",
   "id": "9ed04653-28e6-4b4f-90e3-cb5237174e79",
   "metadata": {},
   "source": [
    "## oen, two, six\n",
    "## zero, four, five, nine\n",
    "## three, seven, eight"
   ]
  },
  {
   "cell_type": "code",
   "execution_count": 3,
   "id": "dce4db07-b53d-4596-ad74-8724868adfe4",
   "metadata": {},
   "outputs": [
    {
     "data": {
      "text/plain": [
       "int"
      ]
     },
     "execution_count": 3,
     "metadata": {},
     "output_type": "execute_result"
    }
   ],
   "source": [
    "type(1)"
   ]
  },
  {
   "cell_type": "code",
   "execution_count": null,
   "id": "6d9231a5-78cc-4784-8f67-99374be029ad",
   "metadata": {},
   "outputs": [],
   "source": []
  }
 ],
 "metadata": {
  "kernelspec": {
   "display_name": "Python 3 (ipykernel)",
   "language": "python",
   "name": "python3"
  },
  "language_info": {
   "codemirror_mode": {
    "name": "ipython",
    "version": 3
   },
   "file_extension": ".py",
   "mimetype": "text/x-python",
   "name": "python",
   "nbconvert_exporter": "python",
   "pygments_lexer": "ipython3",
   "version": "3.11.7"
  }
 },
 "nbformat": 4,
 "nbformat_minor": 5
}
