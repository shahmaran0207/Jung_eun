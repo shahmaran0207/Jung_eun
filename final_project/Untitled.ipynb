{
 "cells": [
  {
   "cell_type": "code",
   "execution_count": 1,
   "id": "e6e644d9-12b6-481b-ac5e-1f215dba2a87",
   "metadata": {},
   "outputs": [
    {
     "ename": "SyntaxError",
     "evalue": "invalid syntax (2828652374.py, line 1)",
     "output_type": "error",
     "traceback": [
      "\u001b[1;36m  Cell \u001b[1;32mIn[1], line 1\u001b[1;36m\u001b[0m\n\u001b[1;33m    jdbc:oracle:thin:@192.168.1.100:1521:xe\u001b[0m\n\u001b[1;37m               ^\u001b[0m\n\u001b[1;31mSyntaxError\u001b[0m\u001b[1;31m:\u001b[0m invalid syntax\n"
     ]
    }
   ],
   "source": [
    "jdbc:oracle:thin:@192.168.1.100:1521:xe"
   ]
  },
  {
   "cell_type": "code",
   "execution_count": 6,
   "id": "2b9f3218-8c18-4196-a062-41c7ff848470",
   "metadata": {},
   "outputs": [],
   "source": [
    "import oracledb as ora"
   ]
  },
  {
   "cell_type": "code",
   "execution_count": 33,
   "id": "a4c2209f-c90e-45ec-8a97-eac214d5ea19",
   "metadata": {},
   "outputs": [],
   "source": [
    "conn=ora.connect('C##PROJECT/1@192.168.1.100:1521/xe')"
   ]
  },
  {
   "cell_type": "code",
   "execution_count": 34,
   "id": "9c243e13-5142-46a2-bbad-76bdb69fcea3",
   "metadata": {},
   "outputs": [
    {
     "name": "stdout",
     "output_type": "stream",
     "text": [
      "<oracledb.Connection to C##PROJECT@192.168.1.100:1521/xe>\n"
     ]
    }
   ],
   "source": [
    "print(conn)"
   ]
  },
  {
   "cell_type": "code",
   "execution_count": 41,
   "id": "3623e0db-aaad-44ac-960c-8c3fc62888fe",
   "metadata": {},
   "outputs": [
    {
     "name": "stdout",
     "output_type": "stream",
     "text": [
      "<oracledb.Cursor on <oracledb.Connection to C##PROJECT@192.168.1.100:1521/xe>>\n"
     ]
    }
   ],
   "source": [
    "cursor = conn.cursor()\n",
    "print(cursor)"
   ]
  },
  {
   "cell_type": "code",
   "execution_count": 35,
   "id": "05252a80-538a-425c-9245-623becfde4d2",
   "metadata": {},
   "outputs": [
    {
     "name": "stdin",
     "output_type": "stream",
     "text": [
      "작성자 :  dsf\n",
      "비밀번호 :  dfs\n",
      "제목 :  dsf\n",
      "내용 :  sdf\n"
     ]
    }
   ],
   "source": [
    "#디장고에서 폼으로 작성할 것\n",
    "writev = input('작성자 : ')\n",
    "pwdv = input('비밀번호 : ')\n",
    "subjectv = input('제목 : ')\n",
    "contentv= input('내용 : ')\n",
    "\n",
    "sql_insert ='insert into board values(board_seq.nextVal,:pwd,:write,:subject,:content,sysdate)'\n",
    "sql_insert\n",
    "\n",
    "#입력값을 쿼리에 바인딩한 후 전송\n",
    "cursor.execute(sql_insert,pwd=pwdv,write=writev,subject=subjectv,content=contentv)\n",
    "cursor.close()\n",
    "conn.commit()\n"
   ]
  },
  {
   "cell_type": "code",
   "execution_count": 42,
   "id": "e86f0801-e9a9-4ad4-b821-4a2ed38e1e46",
   "metadata": {},
   "outputs": [
    {
     "data": {
      "text/plain": [
       "'insert into board values(board_seq.nextVal,:pwd,:write,:subject,:content,sysdate)'"
      ]
     },
     "execution_count": 42,
     "metadata": {},
     "output_type": "execute_result"
    }
   ],
   "source": []
  }
 ],
 "metadata": {
  "kernelspec": {
   "display_name": "Python 3 (ipykernel)",
   "language": "python",
   "name": "python3"
  },
  "language_info": {
   "codemirror_mode": {
    "name": "ipython",
    "version": 3
   },
   "file_extension": ".py",
   "mimetype": "text/x-python",
   "name": "python",
   "nbconvert_exporter": "python",
   "pygments_lexer": "ipython3",
   "version": "3.11.7"
  }
 },
 "nbformat": 4,
 "nbformat_minor": 5
}
