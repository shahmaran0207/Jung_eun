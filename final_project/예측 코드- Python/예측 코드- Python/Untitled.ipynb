{
 "cells": [
  {
   "cell_type": "code",
   "execution_count": 1,
   "id": "e6e644d9-12b6-481b-ac5e-1f215dba2a87",
   "metadata": {},
   "outputs": [
    {
     "ename": "SyntaxError",
     "evalue": "invalid syntax (2828652374.py, line 1)",
     "output_type": "error",
     "traceback": [
      "\u001b[1;36m  Cell \u001b[1;32mIn[1], line 1\u001b[1;36m\u001b[0m\n\u001b[1;33m    jdbc:oracle:thin:@192.168.1.100:1521:xe\u001b[0m\n\u001b[1;37m               ^\u001b[0m\n\u001b[1;31mSyntaxError\u001b[0m\u001b[1;31m:\u001b[0m invalid syntax\n"
     ]
    }
   ],
   "source": [
    "jdbc:oracle:thin:@192.168.1.100:1521:xe"
   ]
  },
  {
   "cell_type": "code",
   "execution_count": 6,
   "id": "2b9f3218-8c18-4196-a062-41c7ff848470",
   "metadata": {},
   "outputs": [],
   "source": [
    "import oracledb as ora"
   ]
  },
  {
   "cell_type": "code",
   "execution_count": 33,
   "id": "a4c2209f-c90e-45ec-8a97-eac214d5ea19",
   "metadata": {},
   "outputs": [],
   "source": [
    "conn=ora.connect('C##PROJECT/1@192.168.1.100:1521/xe')"
   ]
  },
  {
   "cell_type": "code",
   "execution_count": 34,
   "id": "9c243e13-5142-46a2-bbad-76bdb69fcea3",
   "metadata": {},
   "outputs": [
    {
     "name": "stdout",
     "output_type": "stream",
     "text": [
      "<oracledb.Connection to C##PROJECT@192.168.1.100:1521/xe>\n"
     ]
    }
   ],
   "source": [
    "print(conn)"
   ]
  },
  {
   "cell_type": "code",
   "execution_count": 41,
   "id": "3623e0db-aaad-44ac-960c-8c3fc62888fe",
   "metadata": {},
   "outputs": [
    {
     "name": "stdout",
     "output_type": "stream",
     "text": [
      "<oracledb.Cursor on <oracledb.Connection to C##PROJECT@192.168.1.100:1521/xe>>\n"
     ]
    }
   ],
   "source": [
    "cursor = conn.cursor()\n",
    "print(cursor)"
   ]
  },
  {
   "cell_type": "code",
   "execution_count": 35,
   "id": "05252a80-538a-425c-9245-623becfde4d2",
   "metadata": {},
   "outputs": [
    {
     "name": "stdin",
     "output_type": "stream",
     "text": [
      "작성자 :  dsf\n",
      "비밀번호 :  dfs\n",
      "제목 :  dsf\n",
      "내용 :  sdf\n"
     ]
    }
   ],
   "source": [
    "for item in g_hotel_23:\n",
    "    predict_month = item[\"predict_month\"]\n",
    "    predict_value = item[\"predict_value\"]\n",
    "\n",
    "    # 여기서 predict_month, predict_value를 사용하여 데이터베이스에 삽입하는 코드를 작성하세요.\n",
    "    # 예를 들어, 아래와 같이 작성할 수 있습니다.\n",
    "    \n",
    "    # 쿼리 작성\n",
    "    sql_insert = 'INSERT INTO area (predict_month, predict_value) VALUES (:predict_month, :predict_value)'\n",
    "\n",
    "    # 쿼리 실행\n",
    "    cursor.execute(sql_insert, predict_month=predict_month, predict_value=predict_value)\n",
    "\n",
    "# 반복문 종료 후 커서와 연결을 닫고 커밋\n",
    "cursor.close()\n",
    "conn.commit()"
   ]
  },
  {
   "cell_type": "code",
   "execution_count": 42,
   "id": "e86f0801-e9a9-4ad4-b821-4a2ed38e1e46",
   "metadata": {},
   "outputs": [
    {
     "data": {
      "text/plain": [
       "'insert into board values(board_seq.nextVal,:pwd,:write,:subject,:content,sysdate)'"
      ]
     },
     "execution_count": 42,
     "metadata": {},
     "output_type": "execute_result"
    }
   ],
   "source": []
  }
 ],
 "metadata": {
  "kernelspec": {
   "display_name": "Python 3 (ipykernel)",
   "language": "python",
   "name": "python3"
  },
  "language_info": {
   "codemirror_mode": {
    "name": "ipython",
    "version": 3
   },
   "file_extension": ".py",
   "mimetype": "text/x-python",
   "name": "python",
   "nbconvert_exporter": "python",
   "pygments_lexer": "ipython3",
   "version": "3.11.7"
  }
 },
 "nbformat": 4,
 "nbformat_minor": 5
}
