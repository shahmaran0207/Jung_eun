{
 "cells": [
  {
   "cell_type": "code",
   "execution_count": 2,
   "id": "03373784-51db-4590-9e95-ca0028290c56",
   "metadata": {},
   "outputs": [],
   "source": [
    "import pandas as pd\n",
    "\n",
    "import folium\n",
    "import webbrowser\n",
    "\n",
    "def main():\n",
    "\n",
    "    #시도별 범죄율, 신고율 통합 데이터 및 비율 데이터\n",
    "    SiDodf = pd.read_csv(\"C:/Users/USERP/Downloads/Si_Do_Ele_students_Teacher_ratio (1).csv\", encoding = 'euc-kr')\n",
    "    \n",
    "    SiDo_geo = \"C:/Users/USERP/Desktop/Si_Do_map_utf8.json\"\n",
    " \n",
    "    m = folium.Map(location=[36.45, 127.42], \\\n",
    "                   tiles=\"OpenStreetMap\", zoom_start=8)\n",
    "\n",
    "\n",
    "    folium.Choropleth(\n",
    "        geo_data = SiDo_geo,\n",
    "        name='2011 범죄율 대비 신고율',\n",
    "        data=SiDodf,\n",
    "        columns=['행정구역별', '범죄율 대비 신고율'],\n",
    "        key_on='feature.properties.CTP_KOR_NM',\n",
    "        fill_color='PuRd',\n",
    "        fill_opacity=0.7,\n",
    "        line_opacity=0.2,\n",
    "        legend_name='2011 범죄 대비 신고율').add_to(m)\n",
    "\n",
    "    # 색칠한 layer 켜고 끄기 버튼 추가\n",
    "    folium.LayerControl().add_to(m)\n",
    "    \n",
    "    m.save('map.html')\n",
    "    webbrowser.open('map.html') \n",
    "    \n",
    "\n",
    "\n",
    "\n",
    "# main 함수 로딩부\n",
    "if __name__ == '__main__':\n",
    "    main()"
   ]
  },
  {
   "cell_type": "code",
   "execution_count": null,
   "id": "b9270ff5-e08a-4cc4-baeb-2d0c5af26187",
   "metadata": {},
   "outputs": [],
   "source": []
  }
 ],
 "metadata": {
  "kernelspec": {
   "display_name": "Python 3 (ipykernel)",
   "language": "python",
   "name": "python3"
  },
  "language_info": {
   "codemirror_mode": {
    "name": "ipython",
    "version": 3
   },
   "file_extension": ".py",
   "mimetype": "text/x-python",
   "name": "python",
   "nbconvert_exporter": "python",
   "pygments_lexer": "ipython3",
   "version": "3.11.7"
  }
 },
 "nbformat": 4,
 "nbformat_minor": 5
}
