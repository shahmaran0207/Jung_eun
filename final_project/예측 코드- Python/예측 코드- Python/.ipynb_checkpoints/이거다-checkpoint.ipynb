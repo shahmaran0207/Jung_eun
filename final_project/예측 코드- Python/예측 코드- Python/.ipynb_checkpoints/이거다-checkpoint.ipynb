{
 "cells": [
  {
   "cell_type": "code",
   "execution_count": 12,
   "id": "735fa856",
   "metadata": {},
   "outputs": [],
   "source": [
    "import oracledb as ora\n",
    "import os\n",
    "import pandas as pd\n",
    "from math import sqrt\n",
    "from sklearn.model_selection import train_test_split\n",
    "from sklearn import linear_model\n",
    "import numpy as np\n",
    "from sklearn.preprocessing import StandardScaler"
   ]
  },
  {
   "cell_type": "code",
   "execution_count": 13,
   "id": "33d910b7",
   "metadata": {},
   "outputs": [],
   "source": [
    "#관광 지출액 데이터\n",
    "df = pd.read_excel(\"최종데이터.xlsx\")\n",
    "\n",
    "#GDP 데이터\n",
    "gdp=pd.read_excel(\"GDP.xlsx\")\n",
    "\n",
    "#CPI 데이터\n",
    "cpi=pd.read_excel(\"소비자 물가지수.xlsx\")\n",
    "\n",
    "#기대인플레이션율\n",
    "expect_inflaction=pd.read_excel(\"기대 인플레이션율.xlsx\")\n",
    "\n",
    "#지역별 방문객\n",
    "visitor=pd.read_excel(\"지역별 방문자 수.xlsx\")"
   ]
  },
  {
   "cell_type": "code",
   "execution_count": 14,
   "id": "310ec63d",
   "metadata": {},
   "outputs": [],
   "source": [
    "#항목별 컬럼명\n",
    "new_columns = ['호텔', '콘도', '캠핑장/펜션', '기타숙박', '면세점', '관관기념품', '레저용품쇼핑', '대형쇼핑몰', '관광유원시설', '골프장','스키장', '기타레저', '문화서비스', '식음료']\n",
    "\n",
    "#소비데이터 - 강원도\n",
    "gangwon_df =df[df['시도구분'] == '강원도']\n",
    "gangwon_df=gangwon_df.transpose()\n",
    "gangwon_df.columns = new_columns\n",
    "gangwon_df=gangwon_df.drop(gangwon_df.index[0])\n",
    "gangwon_df=gangwon_df.drop(gangwon_df.index[0])"
   ]
  },
  {
   "cell_type": "code",
   "execution_count": 15,
   "id": "22a32794",
   "metadata": {},
   "outputs": [],
   "source": [
    "#gdp 행렬 변환\n",
    "gdp=gdp.transpose()\n",
    "\n",
    "#gdp unnammed 행 제거\n",
    "gdp= gdp.drop(gdp.index[0])\n",
    "\n",
    "#기대인플레이션율\n",
    "expect_inflaction=expect_inflaction.transpose()\n",
    "\n",
    "#기대인플레이션율 unnammed 행 제거\n",
    "expect_inflaction= expect_inflaction.drop(expect_inflaction.index[0])\n",
    "\n",
    "#CPI 행렬 변환\n",
    "cpi=cpi.transpose()\n",
    "\n",
    "#CPI unnammed 행 제거\n",
    "cpi= cpi.drop(cpi.index[0])"
   ]
  },
  {
   "cell_type": "code",
   "execution_count": 16,
   "id": "3640caed",
   "metadata": {},
   "outputs": [],
   "source": [
    "#방문객 데이터 전처리\n",
    "visitor=visitor.transpose()\n",
    "visitor=visitor.drop(visitor.index[0])\n",
    "new_columns = ['강원도', '경기도', '경상남도', '경상북도', '광주광역시', '대구광역시', '대전광역시', '부산광역시', '서울특별시', '울산광역시', '인천광역시', '전라남도', '전라북도', '제주특별자치도', '충청남도', '충청북도']\n",
    "visitor.columns = new_columns\n",
    "visitor_gangwon= visitor[['강원도']]\n",
    "visitor_gunggi = visitor[['경기도']]\n",
    "visitor_gyungnam = visitor[['경상남도']]\n",
    "visitor_gyungbuk = visitor[['경상북도']]\n",
    "visitor_gangju = visitor[['광주광역시']]\n",
    "visitor_daegu = visitor[['대구광역시']]\n",
    "visitor_daejeon = visitor[['대전광역시']]\n",
    "visitor_busan = visitor[['부산광역시']]\n",
    "visitor_seoul = visitor[['서울특별시']]\n",
    "visitor_ulsan = visitor[['울산광역시']]\n",
    "visitor_incheon = visitor[['인천광역시']]\n",
    "visitor_jeonnam = visitor[['전라남도']]\n",
    "visitor_jeonbuk = visitor[['전라북도']]\n",
    "visitor_jej = visitor[['제주특별자치도']]\n",
    "visitor_chungnam = visitor[['충청남도']]\n",
    "visitor_chungbuk = visitor[['충청북도']]"
   ]
  },
  {
   "cell_type": "code",
   "execution_count": 17,
   "id": "edcfa598",
   "metadata": {},
   "outputs": [],
   "source": [
    "#강원 데이터 통합\n",
    "total_gangwon=pd.concat([gangwon_df, gdp, cpi,expect_inflaction,  visitor_gangwon], axis=1)\n",
    "new_columns = ['호텔', '콘도', '캠핑장/펜션', '기타숙박', '면세점', '관광기념품', '레저용품쇼핑', '대형쇼핑몰', '관광유원시설', '골프장','스키장', '기타레저', '문화서비스', '식음료', 'gdp','CPI','기대 인플레이션율',  '강원도 관광객']\n",
    "total_gangwon.columns = new_columns"
   ]
  },
  {
   "cell_type": "code",
   "execution_count": 18,
   "id": "8812b13a",
   "metadata": {
    "scrolled": true
   },
   "outputs": [],
   "source": [
    "#강원도 통합 데이터에서 호텔 및 예측에 필요한 데이터만 추출\n",
    "gangwon_hotel=total_gangwon[['호텔', 'gdp','CPI','기대 인플레이션율','강원도 관광객']]\n",
    "\n",
    "#강원도 통합 데이터에서 콘도 및 예측에 필요한 데이터만 추출\n",
    "gangwon_condo=total_gangwon[['콘도', 'gdp','CPI','기대 인플레이션율','강원도 관광객']]\n",
    "\n",
    "#강원도 통합 데이터에서 캠핑장/펜션 및 예측에 필요한 데이터만 추출\n",
    "gangwon_camping=total_gangwon[['캠핑장/펜션', 'gdp','CPI','기대 인플레이션율','강원도 관광객']]\n",
    "\n",
    "#강원도 통합 데이터에서 기타숙박 및 예측에 필요한 데이터만 추출\n",
    "gangwon_elsesleep=total_gangwon[['기타숙박', 'gdp','CPI','기대 인플레이션율','강원도 관광객']]\n",
    "\n",
    "#강원도 통합 데이터에서 면세점 및 예측에 필요한 데이터만 추출\n",
    "gangwon_dutyfree=total_gangwon[['면세점', 'gdp','CPI','기대 인플레이션율','강원도 관광객']]\n",
    "\n",
    "#강원도 통합 데이터에서 관광기념품 및 예측에 필요한 데이터만 추출\n",
    "gangwon_souvenir=total_gangwon[['관광기념품', 'gdp','CPI','기대 인플레이션율','강원도 관광객']]\n",
    "\n",
    "#강원도 통합 데이터에서 레저용품쇼핑 및 예측에 필요한 데이터만 추출\n",
    "gangwon_leisureshop=total_gangwon[['레저용품쇼핑', 'gdp','CPI','기대 인플레이션율','강원도 관광객']]\n",
    "\n",
    "#강원도 통합 데이터에서 대형쇼핑몰 및 예측에 필요한 데이터만 추출\n",
    "gangwon_hugeshop=total_gangwon[['대형쇼핑몰', 'gdp','CPI','기대 인플레이션율','강원도 관광객']]\n",
    "\n",
    "#강원도 통합 데이터에서 관광유원시설 및 예측에 필요한 데이터만 추출\n",
    "gangwon_amuse=total_gangwon[['관광유원시설', 'gdp','CPI','기대 인플레이션율','강원도 관광객']]\n",
    "\n",
    "#강원도 통합 데이터에서 골프장 및 예측에 필요한 데이터만 추출\n",
    "gangwon_golf=total_gangwon[['골프장', 'gdp','CPI','기대 인플레이션율','강원도 관광객']]\n",
    "\n",
    "#강원도 통합 데이터에서 스키장 및 예측에 필요한 데이터만 추출\n",
    "gangwon_ski=total_gangwon[['스키장', 'gdp','CPI','기대 인플레이션율','강원도 관광객']]\n",
    "\n",
    "#강원도 통합 데이터에서 기타레저 및 예측에 필요한 데이터만 추출\n",
    "gangwon_leisure=total_gangwon[['기타레저', 'gdp','CPI','기대 인플레이션율','강원도 관광객']]\n",
    "\n",
    "#강원도 통합 데이터에서 문화서비스 및 예측에 필요한 데이터만 추출\n",
    "gangwon_culture=total_gangwon[['문화서비스', 'gdp','CPI','기대 인플레이션율','강원도 관광객']]\n",
    "\n",
    "#강원도 통합 데이터에서 식음료 및 예측에 필요한 데이터만 추출\n",
    "gangwon_food=total_gangwon[['식음료', 'gdp','CPI','기대 인플레이션율','강원도 관광객']]"
   ]
  },
  {
   "cell_type": "code",
   "execution_count": 19,
   "id": "97f5b137",
   "metadata": {},
   "outputs": [],
   "source": [
    "#강원도 예측\n",
    "# 호텔 예측 학습한 데이터를 다른 데이터로 평가하는 것예측 테스트(X축에는 예측할 데이터, Y축에는 예측에 고려할 데이터)\n",
    "X_gangwon_hotel = gangwon_hotel[gangwon_hotel.columns.difference(['호텔'])]\n",
    "y_gangwon_hotel = gangwon_hotel['호텔']\n",
    "X_gangwon_hotel_train , X_gangwon_hotel_test , y_gangwon_hotel_train , y_gangwon_hotel_test = train_test_split(X_gangwon_hotel , y_gangwon_hotel , test_size = 0.2 , random_state = 20)\n",
    "lr1 = linear_model.LinearRegression()\n",
    "model1 = lr1.fit(X_gangwon_hotel_train , y_gangwon_hotel_train)"
   ]
  },
  {
   "cell_type": "code",
   "execution_count": 20,
   "id": "41f6f7d7",
   "metadata": {},
   "outputs": [],
   "source": [
    "#강원도 예측\n",
    "# condo 예측 학습한 데이터를 다른 데이터로 평가하는 것 예측 테스트(X축에는 예측할 데이터, Y축에는 예측에 고려할 데이터)\n",
    "X_gangwon_condo = gangwon_condo[gangwon_condo.columns.difference(['콘도'])]\n",
    "y_gangwon_condo = gangwon_condo['콘도']\n",
    "X_gangwon_condo_train , X_gangwon_condo_test , y_gangwon_condo_train , y_gangwon_condo_test = train_test_split(X_gangwon_condo , y_gangwon_condo , test_size = 0.2 , random_state = 20)\n",
    "lr２ = linear_model.LinearRegression()\n",
    "model２ = lr２.fit(X_gangwon_condo_train , y_gangwon_condo_train)"
   ]
  },
  {
   "cell_type": "code",
   "execution_count": 21,
   "id": "d8155cf1",
   "metadata": {},
   "outputs": [],
   "source": [
    "#강원도 예측\n",
    "# camping 예측 학습한 데이터를 다른 데이터로 평가하는 것 예측 테스트(X축에는 예측할 데이터, Y축에는 예측에 고려할 데이터)\n",
    "X_gangwon_camping = gangwon_camping[gangwon_camping.columns.difference(['캠핑장/펜션'])]\n",
    "y_gangwon_camping = gangwon_camping['캠핑장/펜션']\n",
    "X_gangwon_camping_train , X_gangwon_camping_test , y_gangwon_camping_train , y_gangwon_camping_test = train_test_split(X_gangwon_camping , y_gangwon_camping , test_size = 0.2 , random_state = 20)\n",
    "lr3 = linear_model.LinearRegression()\n",
    "model3 = lr3.fit(X_gangwon_camping_train , y_gangwon_camping_train)"
   ]
  },
  {
   "cell_type": "code",
   "execution_count": 22,
   "id": "a30e707a",
   "metadata": {},
   "outputs": [],
   "source": [
    "#강원도 예측\n",
    "# elsesleep 예측 학습한 데이터를 다른 데이터로 평가하는 것 예측 테스트(X축에는 예측할 데이터, Y축에는 예측에 고려할 데이터)\n",
    "X_gangwon_elsesleep = gangwon_elsesleep[gangwon_elsesleep.columns.difference(['기타숙박'])]\n",
    "y_gangwon_elsesleep = gangwon_elsesleep['기타숙박']\n",
    "X_gangwon_elsesleep_train , X_gangwon_elsesleep_test , y_gangwon_elsesleep_train , y_gangwon_elsesleep_test = train_test_split(X_gangwon_elsesleep , y_gangwon_elsesleep , test_size = 0.2 , random_state = 20)\n",
    "lr4 = linear_model.LinearRegression()\n",
    "model4 = lr4.fit(X_gangwon_elsesleep_train , y_gangwon_elsesleep_train)"
   ]
  },
  {
   "cell_type": "code",
   "execution_count": 23,
   "id": "e62f3ebd",
   "metadata": {},
   "outputs": [],
   "source": [
    "#강원도 예측\n",
    "# dutyfree 예측 학습한 데이터를 다른 데이터로 평가하는 것 예측 테스트(X축에는 예측할 데이터, Y축에는 예측에 고려할 데이터)\n",
    "X_gangwon_dutyfree = gangwon_dutyfree[gangwon_dutyfree.columns.difference(['면세점'])]\n",
    "y_gangwon_dutyfree = gangwon_dutyfree['면세점']\n",
    "X_gangwon_dutyfree_train , X_gangwon_dutyfree_test , y_gangwon_dutyfree_train , y_gangwon_dutyfree_test = train_test_split(X_gangwon_dutyfree , y_gangwon_dutyfree , test_size = 0.2 , random_state = 20)\n",
    "lr5 = linear_model.LinearRegression()\n",
    "model5 = lr5.fit(X_gangwon_dutyfree_train , y_gangwon_dutyfree_train)"
   ]
  },
  {
   "cell_type": "code",
   "execution_count": 24,
   "id": "0f5a61c9",
   "metadata": {},
   "outputs": [],
   "source": [
    "#강원도 예측\n",
    "# 레저용품쇼핑 예측 학습한 데이터를 다른 데이터로 평가하는 것 예측 테스트(X축에는 예측할 데이터, Y축에는 예측에 고려할 데이터)\n",
    "X_gangwon_leisureshop = gangwon_leisureshop[gangwon_leisureshop.columns.difference(['레저용품쇼핑'])]\n",
    "y_gangwon_leisureshop = gangwon_leisureshop['레저용품쇼핑']\n",
    "X_gangwon_leisureshop_train , X_gangwon_leisureshop_test , y_gangwon_leisureshop_train , y_gangwon_leisureshop_test = train_test_split(X_gangwon_leisureshop , y_gangwon_leisureshop , test_size = 0.2 , random_state = 20)\n",
    "lr6 = linear_model.LinearRegression()\n",
    "model6 = lr6.fit(X_gangwon_leisureshop_train , y_gangwon_leisureshop_train)"
   ]
  },
  {
   "cell_type": "code",
   "execution_count": 25,
   "id": "531df3a1-6f5c-40bb-aa4f-17ec82733325",
   "metadata": {},
   "outputs": [],
   "source": [
    "#강원도 예측\n",
    "# hugeshop 예측 학습한 데이터를 다른 데이터로 평가하는 것 예측 테스트(X축에는 예측할 데이터, Y축에는 예측에 고려할 데이터)\n",
    "X_gangwon_hugeshop = gangwon_hugeshop[gangwon_hugeshop.columns.difference(['대형쇼핑몰'])]\n",
    "y_gangwon_hugeshop = gangwon_hugeshop['대형쇼핑몰']\n",
    "X_gangwon_hugeshop_train , X_gangwon_hugeshop_test , y_gangwon_hugeshop_train , y_gangwon_hugeshop_test = train_test_split(X_gangwon_hugeshop , y_gangwon_hugeshop , test_size = 0.2 , random_state = 20)\n",
    "lr7 = linear_model.LinearRegression()\n",
    "model7 = lr7.fit(X_gangwon_hugeshop_train , y_gangwon_hugeshop_train)"
   ]
  },
  {
   "cell_type": "code",
   "execution_count": 26,
   "id": "6068c2f3-4faf-4ee1-bb56-2e0aa2a58bf9",
   "metadata": {},
   "outputs": [],
   "source": [
    "#강원도 예측\n",
    "# amuse 예측 학습한 데이터를 다른 데이터로 평가하는 것 예측 테스트(X축에는 예측할 데이터, Y축에는 예측에 고려할 데이터)\n",
    "X_gangwon_amuse = gangwon_amuse[gangwon_amuse.columns.difference(['관광유원시설'])]\n",
    "y_gangwon_amuse = gangwon_amuse['관광유원시설']\n",
    "X_gangwon_amuse_train , X_gangwon_amuse_test , y_gangwon_amuse_train , y_gangwon_amuse_test = train_test_split(X_gangwon_amuse , y_gangwon_amuse , test_size = 0.2 , random_state = 20)\n",
    "lr8 = linear_model.LinearRegression()\n",
    "model8 = lr8.fit(X_gangwon_amuse_train , y_gangwon_amuse_train)"
   ]
  },
  {
   "cell_type": "code",
   "execution_count": 27,
   "id": "bd815178-636e-4331-8867-6483de76e7a5",
   "metadata": {},
   "outputs": [],
   "source": [
    "#강원도 예측\n",
    "# golf 예측 학습한 데이터를 다른 데이터로 평가하는 것 예측 테스트(X축에는 예측할 데이터, Y축에는 예측에 고려할 데이터)\n",
    "X_gangwon_golf = gangwon_golf[gangwon_golf.columns.difference(['골프장'])]\n",
    "y_gangwon_golf = gangwon_golf['골프장']\n",
    "X_gangwon_golf_train , X_gangwon_golf_test , y_gangwon_golf_train , y_gangwon_golf_test = train_test_split(X_gangwon_golf , y_gangwon_golf , test_size = 0.2 , random_state = 20)\n",
    "lr9 = linear_model.LinearRegression()\n",
    "model9 = lr9.fit(X_gangwon_golf_train , y_gangwon_golf_train)\n"
   ]
  },
  {
   "cell_type": "code",
   "execution_count": 28,
   "id": "5fccbc2d-2ff0-4e85-b974-e7934a49aa82",
   "metadata": {},
   "outputs": [],
   "source": [
    "#강원도 예측\n",
    "# ski 예측 학습한 데이터를 다른 데이터로 평가하는 것 예측 테스트(X축에는 예측할 데이터, Y축에는 예측에 고려할 데이터)\n",
    "X_gangwon_ski = gangwon_ski[gangwon_ski.columns.difference(['스키장'])]\n",
    "y_gangwon_ski = gangwon_ski['스키장']\n",
    "X_gangwon_ski_train , X_gangwon_ski_test , y_gangwon_ski_train , y_gangwon_ski_test = train_test_split(X_gangwon_ski , y_gangwon_ski , test_size = 0.2 , random_state = 20)\n",
    "lr10 = linear_model.LinearRegression()\n",
    "model10 = lr10.fit(X_gangwon_ski_train , y_gangwon_ski_train)"
   ]
  },
  {
   "cell_type": "code",
   "execution_count": 29,
   "id": "0cd71dc5-51d1-46c2-a28c-1f7113dee8b9",
   "metadata": {},
   "outputs": [],
   "source": [
    "#강원도 예측\n",
    "# culture 예측 학습한 데이터를 다른 데이터로 평가하는 것 예측 테스트(X축에는 예측할 데이터, Y축에는 예측에 고려할 데이터)\n",
    "X_gangwon_culture = gangwon_culture[gangwon_culture.columns.difference(['문화서비스'])]\n",
    "y_gangwon_culture = gangwon_culture['문화서비스']\n",
    "X_gangwon_culture_train , X_gangwon_culture_test , y_gangwon_culture_train , y_gangwon_culture_test = train_test_split(X_gangwon_culture , y_gangwon_culture , test_size = 0.2 , random_state = 20)\n",
    "lr12 = linear_model.LinearRegression()\n",
    "model12 = lr12.fit(X_gangwon_culture_train , y_gangwon_culture_train)"
   ]
  },
  {
   "cell_type": "code",
   "execution_count": 30,
   "id": "e5bda890-05a0-4249-8aa9-0f4f060bf6e1",
   "metadata": {},
   "outputs": [],
   "source": [
    "#강원도 예측\n",
    "# food 예측 학습한 데이터를 다른 데이터로 평가하는 것 예측 테스트(X축에는 예측할 데이터, Y축에는 예측에 고려할 데이터)\n",
    "X_gangwon_food = gangwon_food[gangwon_food.columns.difference(['식음료'])]\n",
    "y_gangwon_food = gangwon_food['식음료']\n",
    "X_gangwon_food_train , X_gangwon_food_test , y_gangwon_food_train , y_gangwon_food_test = train_test_split(X_gangwon_food , y_gangwon_food , test_size = 0.2 , random_state = 20)\n",
    "lr13 = linear_model.LinearRegression()\n",
    "model13 = lr13.fit(X_gangwon_food_train , y_gangwon_food_train)"
   ]
  },
  {
   "cell_type": "code",
   "execution_count": 48,
   "id": "ae07b6f7-9cbe-4c16-8920-79bb3071d688",
   "metadata": {},
   "outputs": [],
   "source": [
    "# 강원도 예측에 고려할 공통 데이터\n",
    "#GDP 상승률 1.4% 가정\n",
    "gdp_2023=gdp.iloc[-12:]\n",
    "gdp_2023=gdp_2023*1.014\n",
    "new_columns = ['2023년 01월', '2023년 02월', '2023년 03월' , '2023년 04월', '2023년 05월', '2023년 06월', '2023년 07월', '2023년 08월', '2023년 09월', '2023년 10월', '2023년 11월', '2023년 12월']\n",
    "gdp_2023.index = new_columns\n",
    "\n",
    "#CPI 상승률 3.1 가정\n",
    "cpi_2023=cpi.iloc[-12:]\n",
    "cpi_2023=cpi_2023*1.031\n",
    "new_columns = ['2023년 01월', '2023년 02월', '2023년 03월' , '2023년 04월', '2023년 05월', '2023년 06월', '2023년 07월', '2023년 08월', '2023년 09월', '2023년 10월', '2023년 11월', '2023년 12월']\n",
    "cpi_2023.index = new_columns\n",
    "\n",
    "#기대인플레이션율 상승률 2% 가정\n",
    "expect_inflaction_2023=expect_inflaction.iloc[-12:]\n",
    "expect_inflaction_2023=expect_inflaction_2023*1.031\n",
    "new_columns = ['2023년 01월', '2023년 02월', '2023년 03월' , '2023년 04월', '2023년 05월', '2023년 06월', '2023년 07월', '2023년 08월', '2023년 09월', '2023년 10월', '2023년 11월', '2023년 12월']\n",
    "expect_inflaction_2023.index = new_columns\n",
    "\n",
    "#관광객 상승률 8% 가정\n",
    "visitor_gangwon_2023=visitor_gangwon.iloc[-12:]\n",
    "visitor_gangwon_2023=visitor_gangwon_2023*1.08\n",
    "new_columns = ['2023년 01월', '2023년 02월', '2023년 03월' , '2023년 04월', '2023년 05월', '2023년 06월', '2023년 07월', '2023년 08월', '2023년 09월', '2023년 10월', '2023년 11월', '2023년 12월']\n",
    "visitor_gangwon_2023.index = new_columns\n",
    "\n",
    "# Y축 데이터 통합(강원도_호텔)\n",
    "gangwon_practice = pd.concat([gdp_2023, cpi_2023,expect_inflaction_2023, visitor_gangwon_2023], axis=1)\n",
    "new_columns = ['CPI', 'gdp', '기대 인플레이션율', '강원도 관광객']\n",
    "gangwon_practice.columns = new_columns"
   ]
  },
  {
   "cell_type": "code",
   "execution_count": 49,
   "id": "86ba882a",
   "metadata": {},
   "outputs": [],
   "source": [
    "# 스케일링할 데이터 선택\n",
    "X_practice = gangwon_practice.values\n",
    "\n",
    "# 스케일러 객체 생성\n",
    "scaler = StandardScaler()\n",
    "\n",
    "# 스케일링 적용\n",
    "X_practice_scaled = scaler.fit_transform(X_practice)\n",
    "\n",
    "# 스케일링된 데이터를 DataFrame으로 변환\n",
    "gangwon_practice_scaled = pd.DataFrame(X_practice_scaled, columns=gangwon_practice.columns, index=gangwon_practice.index)"
   ]
  },
  {
   "cell_type": "code",
   "execution_count": 37,
   "id": "20332927",
   "metadata": {},
   "outputs": [],
   "source": [
    "# 호텔 예측 결과치\n",
    "X = gangwon_practice_scaled\n",
    "\n",
    "# 학습할 때 사용한 피처 순서와 동일하게 예측할 피처를 선택\n",
    "X_practice = X[gangwon_hotel.columns.difference(['호텔'])]\n",
    "\n",
    "# 호텔 소비 예측\n",
    "predict_hotel = lr1.predict(X_practice)\n",
    "predict_hotel = np.round(predict_hotel, decimals=1)\n",
    "predict_hotel[predict_hotel < 0] = -predict_hotel[predict_hotel < 0]\n",
    "\n",
    "# 예측 결과를 DataFrame으로 변환\n",
    "predict = pd.DataFrame(predict_hotel, columns=['2023년 강원도 호텔 소비 예측치'], index=gangwon_practice.index)\n",
    "\n",
    "# 결과 출력\n",
    "predict\n",
    "\n",
    "\n",
    "\n",
    "#1월 ~ 12월 예측 데이터 각 변수에 저장\n",
    "g_hotel_23_jan=predict_hotel[0]\n",
    "g_hotel_23_feb=predict_hotel[1]\n",
    "g_hotel_23_mar=predict_hotel[2]\n",
    "g_hotel_23_apr=predict_hotel[3]\n",
    "g_hotel_23_may=predict_hotel[4]\n",
    "g_hotel_23_jun=predict_hotel[5]\n",
    "g_hotel_23_jul=predict_hotel[6]\n",
    "g_hotel_23_aug=predict_hotel[7]\n",
    "g_hotel_23_sep=predict_hotel[8]\n",
    "g_hotel_23_oct=predict_hotel[9]\n",
    "g_hotel_23_nov=predict_hotel[10]\n",
    "g_hotel_23_dec=predict_hotel[11]\n",
    "\n",
    "g_hotel_23 = {\n",
    "    \"2023년 01월 강원도 호텔\": g_hotel_23_jan,\n",
    "    \"2023년 02월 강원도 호텔\": g_hotel_23_feb,\n",
    "    \"2023년 03월 강원도 호텔\": g_hotel_23_mar,\n",
    "    \"2023년 04월 강원도 호텔\": g_hotel_23_apr,\n",
    "    \"2023년 05월 강원도 호텔\": g_hotel_23_may,\n",
    "    \"2023년 06월 강원도 호텔\": g_hotel_23_jun,\n",
    "    \"2023년 07월 강원도 호텔\": g_hotel_23_jul,\n",
    "    \"2023년 08월 강원도 호텔\": g_hotel_23_aug,\n",
    "    \"2023년 09월 강원도 호텔\": g_hotel_23_sep,\n",
    "    \"2023년 10월 강원도 호텔\": g_hotel_23_oct,\n",
    "    \"2023년 11월 강원도 호텔\": g_hotel_23_nov,\n",
    "    \"2023년 12월 강원도 호텔\": g_hotel_23_dec\n",
    "}"
   ]
  },
  {
   "cell_type": "code",
   "execution_count": 44,
   "id": "50f4febd-ed27-4dee-903c-604558fe79ce",
   "metadata": {},
   "outputs": [],
   "source": [
    "g_hotel_23 = [{\n",
    "    \"predict_month\": \"2023년01월_hotel_gangwon\",\n",
    "    \"predict_value\": g_hotel_23_jan\n",
    "}, {\n",
    "    \"predict_month\": \"2023년02월_hotel_gangwon\",\n",
    "    \"predict_value\": g_hotel_23_feb\n",
    "},\n",
    " {\n",
    "    \"predict_month\": \"2023년03월_hotel_gangwon\",\n",
    "    \"predict_value\": g_hotel_23_mar\n",
    "},\n",
    "              \n",
    "   {\n",
    "    \"predict_month\": \"2023년04월_hotel_gangwon\",\n",
    "    \"predict_value\": g_hotel_23_apr\n",
    "},\n",
    "{\n",
    "    \"predict_month\": \"2023년05월_hotel_gangwon\",\n",
    "    \"predict_value\": g_hotel_23_may\n",
    "},\n",
    " {\n",
    "    \"predict_month\": \"2023년06월_hotel_gangwon\",\n",
    "    \"predict_value\": g_hotel_23_jun\n",
    "},\n",
    " {\n",
    "    \"predict_month\": \"2023년07월_hotel_gangwon\",\n",
    "    \"predict_value\": g_hotel_23_jul\n",
    "},\n",
    "{\n",
    "    \"predict_month\": \"2023년08월_hotel_gangwon\",\n",
    "    \"predict_value\": g_hotel_23_aug\n",
    "},\n",
    " {\n",
    "    \"predict_month\": \"2023년09월_hotel_gangwon\",\n",
    "    \"predict_value\": g_hotel_23_sep\n",
    "},\n",
    "\n",
    "              {\n",
    "    \"predict_month\": \"2023년10월_hotel_gangwon\",\n",
    "    \"predict_value\": g_hotel_23_oct\n",
    "},\n",
    "{\n",
    "    \"predict_month\": \"2023년11월_hotel_gangwon\",\n",
    "    \"predict_value\": g_hotel_23_nov\n",
    "},\n",
    " {\n",
    "    \"predict_month\": \"2023년12월_hotel_gangwon\",\n",
    "    \"predict_value\": g_hotel_23_dec\n",
    "},\n",
    "        \n",
    "]"
   ]
  },
  {
   "cell_type": "code",
   "execution_count": 45,
   "id": "4712ad22-a1a1-49b5-a735-f2134e825309",
   "metadata": {},
   "outputs": [],
   "source": [
    "conn=ora.connect('C##PROJECT/1@192.168.1.100:1521/xe')"
   ]
  },
  {
   "cell_type": "code",
   "execution_count": 46,
   "id": "88799416-e8fe-419c-b900-e124a650aca7",
   "metadata": {},
   "outputs": [
    {
     "name": "stdout",
     "output_type": "stream",
     "text": [
      "<oracledb.Cursor on <oracledb.Connection to C##PROJECT@192.168.1.100:1521/xe>>\n"
     ]
    }
   ],
   "source": [
    "cursor = conn.cursor()\n",
    "print(cursor)"
   ]
  },
  {
   "cell_type": "code",
   "execution_count": 47,
   "id": "c78858f7-5776-43e4-9346-1fafbffbdb36",
   "metadata": {},
   "outputs": [],
   "source": [
    "for item in g_hotel_23:\n",
    "    predict_month = item[\"predict_month\"]\n",
    "    predict_value = item[\"predict_value\"]\n",
    "\n",
    "    # 여기서 predict_month, predict_value를 사용하여 데이터베이스에 삽입하는 코드를 작성하세요.\n",
    "    # 예를 들어, 아래와 같이 작성할 수 있습니다.\n",
    "    \n",
    "    # 쿼리 작성\n",
    "    sql_insert = 'INSERT INTO area (predict_month, predict_value) VALUES (:predict_month, :predict_value)'\n",
    "\n",
    "    # 쿼리 실행\n",
    "    cursor.execute(sql_insert, predict_month=predict_month, predict_value=predict_value)\n",
    "\n",
    "# 반복문 종료 후 커서와 연결을 닫고 커밋\n",
    "cursor.close()\n",
    "conn.commit()"
   ]
  },
  {
   "cell_type": "code",
   "execution_count": null,
   "id": "e09811e7-ecd2-4010-9e18-4f5c86d02018",
   "metadata": {},
   "outputs": [],
   "source": []
  },
  {
   "cell_type": "code",
   "execution_count": null,
   "id": "f1b2800c-14df-4251-a7cf-c3965f9aace8",
   "metadata": {},
   "outputs": [],
   "source": []
  },
  {
   "cell_type": "code",
   "execution_count": null,
   "id": "6439f782-0a73-467d-97fa-3afcf99ae614",
   "metadata": {},
   "outputs": [],
   "source": []
  },
  {
   "cell_type": "code",
   "execution_count": null,
   "id": "c73a3004-2475-491e-9ccc-fa2780ac98a1",
   "metadata": {},
   "outputs": [],
   "source": []
  },
  {
   "cell_type": "code",
   "execution_count": null,
   "id": "48d35aa9-cdd1-420f-9c01-789e480e48a9",
   "metadata": {},
   "outputs": [],
   "source": []
  },
  {
   "cell_type": "code",
   "execution_count": null,
   "id": "c1ffe232-f0b2-4465-80ef-63bbdc91b15c",
   "metadata": {},
   "outputs": [],
   "source": []
  },
  {
   "cell_type": "code",
   "execution_count": null,
   "id": "d84cd7fb-a953-4875-a9be-dd1a5c30ac57",
   "metadata": {},
   "outputs": [],
   "source": []
  },
  {
   "cell_type": "code",
   "execution_count": null,
   "id": "ad5ada8c-2ae4-4f63-b02e-bb3267161df1",
   "metadata": {},
   "outputs": [],
   "source": []
  },
  {
   "cell_type": "code",
   "execution_count": null,
   "id": "579faea7-17da-45c8-8d79-d649ded7d8fb",
   "metadata": {},
   "outputs": [],
   "source": []
  },
  {
   "cell_type": "code",
   "execution_count": null,
   "id": "f18739fe-fb5a-401b-91f2-1e834ece3b17",
   "metadata": {},
   "outputs": [],
   "source": []
  },
  {
   "cell_type": "code",
   "execution_count": null,
   "id": "37d29d15-27cd-432d-8a42-d622cdf79378",
   "metadata": {},
   "outputs": [],
   "source": []
  },
  {
   "cell_type": "code",
   "execution_count": null,
   "id": "2cb1dd63-10f0-4259-9ad8-2d23afa4701d",
   "metadata": {},
   "outputs": [],
   "source": []
  },
  {
   "cell_type": "code",
   "execution_count": null,
   "id": "93762ab0-1b98-4bc6-8b07-b27666225603",
   "metadata": {},
   "outputs": [],
   "source": []
  }
 ],
 "metadata": {
  "kernelspec": {
   "display_name": "Python 3 (ipykernel)",
   "language": "python",
   "name": "python3"
  },
  "language_info": {
   "codemirror_mode": {
    "name": "ipython",
    "version": 3
   },
   "file_extension": ".py",
   "mimetype": "text/x-python",
   "name": "python",
   "nbconvert_exporter": "python",
   "pygments_lexer": "ipython3",
   "version": "3.11.7"
  }
 },
 "nbformat": 4,
 "nbformat_minor": 5
}
