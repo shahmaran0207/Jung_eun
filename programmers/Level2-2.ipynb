{
 "cells": [
  {
   "cell_type": "markdown",
   "id": "56f309ca-5a36-44cb-af60-c986d3290d3d",
   "metadata": {},
   "source": [
    "자연수 n이 주어졌을 때, n의 다음 큰 숫자는 다음과 같이 정의 합니다.\r\n",
    "\r\n",
    "조건 1. n의 다음 큰 숫자는 n보다 큰 자연수 입니다.\r\n",
    "조건 2. n의 다음 큰 숫자와 n은 2진수로 변환했을 때 1의 갯수가 같습니다.\r\n",
    "조건 3. n의 다음 큰 숫자는 조건 1, 2를 만족하는 수 중 가장 작은 수 입니다.\r\n",
    "예를 들어서 78(1001110)의 다음 큰 숫자는 83(1010011)입니다.\r\n",
    "\r\n",
    "자연수 n이 매개변수로 주어질 때, n의 다음 큰 숫자를 return 하는 solution 함수를 \r\n",
    "\r\n",
    "제한 사항"
   ]
  },
  {
   "cell_type": "code",
   "execution_count": 1,
   "id": "acdbcc8c-2cc5-4ace-8d56-b34177308143",
   "metadata": {},
   "outputs": [],
   "source": [
    "def solution(n):\n",
    "    answer = 0\n",
    "    return answer"
   ]
  },
  {
   "cell_type": "code",
   "execution_count": 2,
   "id": "e3fbe0ee-1ef3-45f6-9e58-f90cafeff683",
   "metadata": {},
   "outputs": [
    {
     "data": {
      "text/plain": [
       "0"
      ]
     },
     "execution_count": 2,
     "metadata": {},
     "output_type": "execute_result"
    }
   ],
   "source": [
    "solution(78)"
   ]
  },
  {
   "cell_type": "code",
   "execution_count": 3,
   "id": "4dbdf849-f112-42a0-b098-7798840fad4f",
   "metadata": {},
   "outputs": [
    {
     "data": {
      "text/plain": [
       "0"
      ]
     },
     "execution_count": 3,
     "metadata": {},
     "output_type": "execute_result"
    }
   ],
   "source": [
    "solution(15)"
   ]
  },
  {
   "cell_type": "code",
   "execution_count": null,
   "id": "469fa17a-9948-4cfa-b31b-1e64ae7f09d0",
   "metadata": {},
   "outputs": [],
   "source": []
  }
 ],
 "metadata": {
  "kernelspec": {
   "display_name": "Python 3 (ipykernel)",
   "language": "python",
   "name": "python3"
  },
  "language_info": {
   "codemirror_mode": {
    "name": "ipython",
    "version": 3
   },
   "file_extension": ".py",
   "mimetype": "text/x-python",
   "name": "python",
   "nbconvert_exporter": "python",
   "pygments_lexer": "ipython3",
   "version": "3.11.7"
  }
 },
 "nbformat": 4,
 "nbformat_minor": 5
}
