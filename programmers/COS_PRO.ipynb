{
 "cells": [
  {
   "cell_type": "code",
   "execution_count": 1,
   "id": "59f4ce4e-b29f-42d8-b1f5-e09aaa87143f",
   "metadata": {},
   "outputs": [],
   "source": [
    "def solution(prices):\n",
    "\tINF = 1000000001;\n",
    "\ttmp = INF\n",
    "\tanswer = -INF\n",
    "\tfor price in prices:\n",
    "\t\tif tmp != INF:\n",
    "\t\t\tanswer = max(answer, tmp - price)\n",
    "\t\ttmp = min(tmp, price)\n",
    "\treturn answer"
   ]
  },
  {
   "cell_type": "code",
   "execution_count": 1,
   "id": "67f04a5c-81b3-4e3f-993d-e0aaf5fdbf96",
   "metadata": {},
   "outputs": [],
   "source": [
    "# -*- coding: utf-8 -*-\n",
    "# UTF-8 encoding when using korean\n",
    "\n",
    "def solution(k):\n",
    "\tanswer = []\n",
    "\tfor i in range(1, k + 1):\n",
    "\t\tsquare_num = i * i\n",
    "\t\tdivisor = 1\n",
    "\t\twhile square_num // divisor != 0:\n",
    "\t\t\tfront = square_num // divisor\n",
    "\t\t\tback = square_num % divisor\n",
    "\t\t\tdivisor *= 10\n",
    "\t\t\tif back != 0 and front != 0:\n",
    "\t\t\t\tif front + back == i:\n",
    "\t\t\t\t\tanswer.append(i)\n",
    "\treturn answer"
   ]
  },
  {
   "cell_type": "code",
   "execution_count": 4,
   "id": "bdfd77ee-2395-4f9e-a68d-a7e4045481e5",
   "metadata": {},
   "outputs": [],
   "source": [
    "# -*- coding: utf-8 -*-\n",
    "# UTF-8 encoding when using korean\n",
    "\n",
    "def solution(k, student):\n",
    "\tanswer = 0\n",
    "\ttmp=0\n",
    "\tfor s in student:\n",
    "\t\ts -= 4*k\n",
    "\t\tif s <= 0:\n",
    "\t\t\tbreak\n",
    "\t\ttmp = s // k if isinstance(s // k, int) else (s // k) + 1\n",
    "\n",
    "\t\tanswer+=tmp\n",
    "\treturn answer"
   ]
  },
  {
   "cell_type": "code",
   "execution_count": 8,
   "id": "35b2e6c9-4804-4728-9f64-fff49ff736f0",
   "metadata": {},
   "outputs": [],
   "source": [
    "def solution(k, student):\n",
    "\tanswer = 0\n",
    "\t\n",
    "\tfor s in student:\n",
    "\t\ttmp=0\n",
    "\t\ts -= 4*k\n",
    "\t\tif s <= 0:\n",
    "\t\t\tbreak\n",
    "\t\ttmp = s // k if s % k == 0 else (s // k) + 1\n",
    "\t\tanswer+=tmp\n",
    "\treturn answer"
   ]
  },
  {
   "cell_type": "code",
   "execution_count": null,
   "id": "f1afafc1-4d6c-4eb0-a83a-fd1a6cd25d9e",
   "metadata": {},
   "outputs": [],
   "source": []
  }
 ],
 "metadata": {
  "kernelspec": {
   "display_name": "Python 3 (ipykernel)",
   "language": "python",
   "name": "python3"
  },
  "language_info": {
   "codemirror_mode": {
    "name": "ipython",
    "version": 3
   },
   "file_extension": ".py",
   "mimetype": "text/x-python",
   "name": "python",
   "nbconvert_exporter": "python",
   "pygments_lexer": "ipython3",
   "version": "3.11.7"
  }
 },
 "nbformat": 4,
 "nbformat_minor": 5
}
