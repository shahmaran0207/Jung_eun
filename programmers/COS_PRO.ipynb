{
 "cells": [
  {
   "cell_type": "code",
   "execution_count": 1,
   "id": "59f4ce4e-b29f-42d8-b1f5-e09aaa87143f",
   "metadata": {},
   "outputs": [],
   "source": [
    "def solution(prices):\n",
    "\tINF = 1000000001;\n",
    "\ttmp = INF\n",
    "\tanswer = -INF\n",
    "\tfor price in prices:\n",
    "\t\tif tmp != INF:\n",
    "\t\t\tanswer = max(answer, tmp - price)\n",
    "\t\ttmp = min(tmp, price)\n",
    "\treturn answer"
   ]
  },
  {
   "cell_type": "code",
   "execution_count": null,
   "id": "67f04a5c-81b3-4e3f-993d-e0aaf5fdbf96",
   "metadata": {},
   "outputs": [],
   "source": []
  }
 ],
 "metadata": {
  "kernelspec": {
   "display_name": "Python 3 (ipykernel)",
   "language": "python",
   "name": "python3"
  },
  "language_info": {
   "codemirror_mode": {
    "name": "ipython",
    "version": 3
   },
   "file_extension": ".py",
   "mimetype": "text/x-python",
   "name": "python",
   "nbconvert_exporter": "python",
   "pygments_lexer": "ipython3",
   "version": "3.11.7"
  }
 },
 "nbformat": 4,
 "nbformat_minor": 5
}
