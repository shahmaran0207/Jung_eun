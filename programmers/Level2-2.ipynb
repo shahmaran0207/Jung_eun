{
 "cells": [
  {
   "cell_type": "markdown",
   "id": "56f309ca-5a36-44cb-af60-c986d3290d3d",
   "metadata": {},
   "source": [
    "자연수 n이 주어졌을 때, n의 다음 큰 숫자는 다음과 같이 정의 합니다.\n",
    "\n",
    "조건 1. n의 다음 큰 숫자는 n보다 큰 자연수 입니다.\n",
    "조건 2. n의 다음 큰 숫자와 n은 2진수로 변환했을 때 1의 갯수가 같습니다.\n",
    "조건 3. n의 다음 큰 숫자는 조건 1, 2를 만족하는 수 중 가장 작은 수 입니다.\n",
    "예를 들어서 78(1001110)의 다음 큰 숫자는 83(1010011)입니다.\n",
    "\n",
    "자연수 n이 매개변수로 주어질 때, n의 다음 큰 숫자를 return 하는 solution 함수를 완성해주세요.\n",
    "\n",
    "제한 사항"
   ]
  },
  {
   "cell_type": "code",
   "execution_count": 1,
   "id": "acdbcc8c-2cc5-4ace-8d56-b34177308143",
   "metadata": {},
   "outputs": [],
   "source": [
    "def solution(n):\n",
    "    answer = one1=0\n",
    "    tmp=bin(n)\n",
    "    tmp=tmp[2:]\n",
    "    length=str(tmp)\n",
    "\n",
    "    for i in range(len(length)):\n",
    "        if length[i]=='1': one1+=1\n",
    "\n",
    "    while True:\n",
    "        one2=0\n",
    "        n+=1\n",
    "        n=bin(n)\n",
    "        n=n[2:]\n",
    "        length2=str(n)\n",
    "        \n",
    "        for k in range(len(length2)):\n",
    "            if length2[k]=='1': one2+=1\n",
    "        if one1 == one2 :\n",
    "                answer=int(n,2)\n",
    "                return answer\n",
    "        n=int(n,2)\n",
    "        \n",
    "\n",
    "            \n",
    "\n",
    "            \n",
    "    return answer"
   ]
  },
  {
   "cell_type": "code",
   "execution_count": 2,
   "id": "4dbdf849-f112-42a0-b098-7798840fad4f",
   "metadata": {},
   "outputs": [
    {
     "data": {
      "text/plain": [
       "83"
      ]
     },
     "execution_count": 2,
     "metadata": {},
     "output_type": "execute_result"
    }
   ],
   "source": [
    "solution(78)"
   ]
  },
  {
   "cell_type": "code",
   "execution_count": 3,
   "id": "469fa17a-9948-4cfa-b31b-1e64ae7f09d0",
   "metadata": {},
   "outputs": [
    {
     "data": {
      "text/plain": [
       "78"
      ]
     },
     "execution_count": 3,
     "metadata": {},
     "output_type": "execute_result"
    }
   ],
   "source": [
    "int('1001110', 2)"
   ]
  },
  {
   "cell_type": "code",
   "execution_count": 4,
   "id": "29e45c08-de1a-4ab2-9442-7de0f37b0021",
   "metadata": {},
   "outputs": [
    {
     "data": {
      "text/plain": [
       "'1001111'"
      ]
     },
     "execution_count": 4,
     "metadata": {},
     "output_type": "execute_result"
    }
   ],
   "source": [
    "bin=bin(79)\n",
    "bin=bin[2:]\n",
    "bin"
   ]
  },
  {
   "cell_type": "code",
   "execution_count": 8,
   "id": "e420e97f-e4c9-4133-96b3-2d20c7688f20",
   "metadata": {},
   "outputs": [],
   "source": [
    "def solution(n):\n",
    "    answer = one1=zero1= way=0\n",
    "    tmp=bin(n)\n",
    "    tmp=tmp[2:]\n",
    "    length=str(tmp)\n",
    "\n",
    "    for i in range(len(length)):\n",
    "        if length[i]=='1': one1+=1\n",
    "\n",
    "        while True:\n",
    "            one2=zero2=0\n",
    "            \n",
    "            n+=1\n",
    "            n=bin(n)\n",
    "            n=n[2:]\n",
    "            length2=str(n)\n",
    "            for i in range(len(length2)):\n",
    "                if length[i]=='1': one2+=1\n",
    "                if one1 == one2 : ##비교 위치 문제\n",
    "                    answer=int(length2, 2)\n",
    "                    return answer\n",
    "            \n",
    "            n=int(n,2)\n",
    "            \n",
    "\n",
    "\n",
    "            \n",
    "    return answer"
   ]
  },
  {
   "cell_type": "code",
   "execution_count": 6,
   "id": "4917c08c-4c7c-477a-84f6-12116e1203b9",
   "metadata": {},
   "outputs": [
    {
     "ename": "TypeError",
     "evalue": "'str' object is not callable",
     "output_type": "error",
     "traceback": [
      "\u001b[1;31m---------------------------------------------------------------------------\u001b[0m",
      "\u001b[1;31mTypeError\u001b[0m                                 Traceback (most recent call last)",
      "Input \u001b[1;32mIn [6]\u001b[0m, in \u001b[0;36m<cell line: 1>\u001b[1;34m()\u001b[0m\n\u001b[1;32m----> 1\u001b[0m \u001b[43msolution\u001b[49m\u001b[43m(\u001b[49m\u001b[38;5;241;43m1\u001b[39;49m\u001b[43m)\u001b[49m\n",
      "Input \u001b[1;32mIn [5]\u001b[0m, in \u001b[0;36msolution\u001b[1;34m(n)\u001b[0m\n\u001b[0;32m      1\u001b[0m \u001b[38;5;28;01mdef\u001b[39;00m \u001b[38;5;21msolution\u001b[39m(n):\n\u001b[0;32m      2\u001b[0m     answer \u001b[38;5;241m=\u001b[39m one1\u001b[38;5;241m=\u001b[39mzero1\u001b[38;5;241m=\u001b[39m way\u001b[38;5;241m=\u001b[39m\u001b[38;5;241m0\u001b[39m\n\u001b[1;32m----> 3\u001b[0m     tmp\u001b[38;5;241m=\u001b[39m\u001b[38;5;28;43mbin\u001b[39;49m\u001b[43m(\u001b[49m\u001b[43mn\u001b[49m\u001b[43m)\u001b[49m\n\u001b[0;32m      4\u001b[0m     tmp\u001b[38;5;241m=\u001b[39mtmp[\u001b[38;5;241m2\u001b[39m:]\n\u001b[0;32m      5\u001b[0m     length\u001b[38;5;241m=\u001b[39m\u001b[38;5;28mstr\u001b[39m(tmp)\n",
      "\u001b[1;31mTypeError\u001b[0m: 'str' object is not callable"
     ]
    }
   ],
   "source": [
    "solution(1)"
   ]
  },
  {
   "cell_type": "code",
   "execution_count": null,
   "id": "d9585f15-4580-4ec4-a4cf-0e69e426a7fa",
   "metadata": {},
   "outputs": [],
   "source": []
  }
 ],
 "metadata": {
  "kernelspec": {
   "display_name": "Python 3 (ipykernel)",
   "language": "python",
   "name": "python3"
  },
  "language_info": {
   "codemirror_mode": {
    "name": "ipython",
    "version": 3
   },
   "file_extension": ".py",
   "mimetype": "text/x-python",
   "name": "python",
   "nbconvert_exporter": "python",
   "pygments_lexer": "ipython3",
   "version": "3.9.12"
  }
 },
 "nbformat": 4,
 "nbformat_minor": 5
}
