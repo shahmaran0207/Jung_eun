{
 "cells": [
  {
   "cell_type": "markdown",
   "id": "bd23119f-e2f7-447b-8b43-3a7034e6d8b1",
   "metadata": {},
   "source": [
    "## 한국중학교에 다니는 학생들은 각자 정수 번호를 갖고 있습니다. 이 학교 학생 3명의 정수 번호를 더했을 때 0이 되면 3명의 학생은 삼총사라고 합니다. 예를 들어, 5명의 학생이 있고, 각각의 정수 번호가 순서대로 -2, 3, 0, 2, -5일 때, 첫 번째, 세 번째, 네 번째 학생의 정수 번호를 더하면 0이므로 세 학생은 삼총사입니다. 또한, 두 번째, 네 번째, 다섯 번째 학생의 정수 번호를 더해도 0이므로 세 학생도 삼총사입니다. 따라서 이 경우 한국중학교에서는 두 가지 방법으로 삼총사를 만들 수 있습니다.\r\n",
    "## \r\n",
    "한국중학교 학생들의 번호를 나타내는 정수 배열 number가 매개변수로 주어질 때, 학생들 중 삼총사를 만들 수 있는 방법의 수를 return 하도록 solution 함수를 완성하세요.\r\n",
    "\r\n"
   ]
  },
  {
   "cell_type": "code",
   "execution_count": 9,
   "id": "5be716d1-b7ce-43e5-a0a9-d8eecb196426",
   "metadata": {},
   "outputs": [],
   "source": [
    "def solution(number):\n",
    "    answer = test=0\n",
    "\n",
    "    for i in range(len(number)-2):\n",
    "        test=0\n",
    "        for k in range(i+1, len(number)-1):\n",
    "            for j in range(k+1, len(number)):\n",
    "                test=number[i]+number[j]+number[k]\n",
    "                if test == 0: answer+=1\n",
    "        \n",
    "    return answer"
   ]
  },
  {
   "cell_type": "code",
   "execution_count": 10,
   "id": "8fced455-0039-40c9-9569-09a2221a7797",
   "metadata": {},
   "outputs": [
    {
     "data": {
      "text/plain": [
       "2"
      ]
     },
     "execution_count": 10,
     "metadata": {},
     "output_type": "execute_result"
    }
   ],
   "source": [
    "solution([-2, 3, 0, 2, -5])"
   ]
  },
  {
   "cell_type": "code",
   "execution_count": null,
   "id": "180d6f11-38a0-434b-952e-9e682e71f36e",
   "metadata": {},
   "outputs": [],
   "source": []
  }
 ],
 "metadata": {
  "kernelspec": {
   "display_name": "Python 3 (ipykernel)",
   "language": "python",
   "name": "python3"
  },
  "language_info": {
   "codemirror_mode": {
    "name": "ipython",
    "version": 3
   },
   "file_extension": ".py",
   "mimetype": "text/x-python",
   "name": "python",
   "nbconvert_exporter": "python",
   "pygments_lexer": "ipython3",
   "version": "3.11.7"
  }
 },
 "nbformat": 4,
 "nbformat_minor": 5
}
